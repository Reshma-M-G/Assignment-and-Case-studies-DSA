{
 "cells": [
  {
   "cell_type": "code",
   "execution_count": 1,
   "id": "d1654d98",
   "metadata": {},
   "outputs": [],
   "source": [
    "import numpy as np\n",
    "import pandas as pd\n",
    "import matplotlib.pyplot as plt\n",
    "import seaborn as sns\n",
    "from scipy import stats\n",
    "from scipy.stats import f_oneway"
   ]
  },
  {
   "cell_type": "code",
   "execution_count": 58,
   "id": "3478e2bd",
   "metadata": {},
   "outputs": [],
   "source": [
    "data=pd.read_csv(\"Downloads\\Sales_data_zone_wise.csv\")"
   ]
  },
  {
   "cell_type": "code",
   "execution_count": 59,
   "id": "05729f88",
   "metadata": {},
   "outputs": [
    {
     "data": {
      "text/html": [
       "<div>\n",
       "<style scoped>\n",
       "    .dataframe tbody tr th:only-of-type {\n",
       "        vertical-align: middle;\n",
       "    }\n",
       "\n",
       "    .dataframe tbody tr th {\n",
       "        vertical-align: top;\n",
       "    }\n",
       "\n",
       "    .dataframe thead th {\n",
       "        text-align: right;\n",
       "    }\n",
       "</style>\n",
       "<table border=\"1\" class=\"dataframe\">\n",
       "  <thead>\n",
       "    <tr style=\"text-align: right;\">\n",
       "      <th></th>\n",
       "      <th>Month</th>\n",
       "      <th>Zone - A</th>\n",
       "      <th>Zone - B</th>\n",
       "      <th>Zone - C</th>\n",
       "      <th>Zone - D</th>\n",
       "    </tr>\n",
       "  </thead>\n",
       "  <tbody>\n",
       "    <tr>\n",
       "      <th>0</th>\n",
       "      <td>Month - 1</td>\n",
       "      <td>1483525</td>\n",
       "      <td>1748451</td>\n",
       "      <td>1523308</td>\n",
       "      <td>2267260</td>\n",
       "    </tr>\n",
       "    <tr>\n",
       "      <th>1</th>\n",
       "      <td>Month - 2</td>\n",
       "      <td>1238428</td>\n",
       "      <td>1707421</td>\n",
       "      <td>2212113</td>\n",
       "      <td>1994341</td>\n",
       "    </tr>\n",
       "    <tr>\n",
       "      <th>2</th>\n",
       "      <td>Month - 3</td>\n",
       "      <td>1860771</td>\n",
       "      <td>2091194</td>\n",
       "      <td>1282374</td>\n",
       "      <td>1241600</td>\n",
       "    </tr>\n",
       "    <tr>\n",
       "      <th>3</th>\n",
       "      <td>Month - 4</td>\n",
       "      <td>1871571</td>\n",
       "      <td>1759617</td>\n",
       "      <td>2290580</td>\n",
       "      <td>2252681</td>\n",
       "    </tr>\n",
       "    <tr>\n",
       "      <th>4</th>\n",
       "      <td>Month - 5</td>\n",
       "      <td>1244922</td>\n",
       "      <td>1606010</td>\n",
       "      <td>1818334</td>\n",
       "      <td>1326062</td>\n",
       "    </tr>\n",
       "  </tbody>\n",
       "</table>\n",
       "</div>"
      ],
      "text/plain": [
       "       Month  Zone - A  Zone - B  Zone - C  Zone - D\n",
       "0  Month - 1   1483525   1748451   1523308   2267260\n",
       "1  Month - 2   1238428   1707421   2212113   1994341\n",
       "2  Month - 3   1860771   2091194   1282374   1241600\n",
       "3  Month - 4   1871571   1759617   2290580   2252681\n",
       "4  Month - 5   1244922   1606010   1818334   1326062"
      ]
     },
     "execution_count": 59,
     "metadata": {},
     "output_type": "execute_result"
    }
   ],
   "source": [
    "data.head()"
   ]
  },
  {
   "cell_type": "code",
   "execution_count": 60,
   "id": "a1e57a70",
   "metadata": {},
   "outputs": [],
   "source": [
    "data.columns=dzw.columns.str.replace(\" \",\"\")\n",
    "data.columns=dzw.columns.str.replace('-','_')"
   ]
  },
  {
   "cell_type": "code",
   "execution_count": 61,
   "id": "e8971146",
   "metadata": {},
   "outputs": [
    {
     "data": {
      "text/html": [
       "<div>\n",
       "<style scoped>\n",
       "    .dataframe tbody tr th:only-of-type {\n",
       "        vertical-align: middle;\n",
       "    }\n",
       "\n",
       "    .dataframe tbody tr th {\n",
       "        vertical-align: top;\n",
       "    }\n",
       "\n",
       "    .dataframe thead th {\n",
       "        text-align: right;\n",
       "    }\n",
       "</style>\n",
       "<table border=\"1\" class=\"dataframe\">\n",
       "  <thead>\n",
       "    <tr style=\"text-align: right;\">\n",
       "      <th></th>\n",
       "      <th>Month</th>\n",
       "      <th>Zone_A</th>\n",
       "      <th>Zone_B</th>\n",
       "      <th>Zone_C</th>\n",
       "      <th>Zone_D</th>\n",
       "    </tr>\n",
       "  </thead>\n",
       "  <tbody>\n",
       "    <tr>\n",
       "      <th>0</th>\n",
       "      <td>Month - 1</td>\n",
       "      <td>1483525</td>\n",
       "      <td>1748451</td>\n",
       "      <td>1523308</td>\n",
       "      <td>2267260</td>\n",
       "    </tr>\n",
       "    <tr>\n",
       "      <th>1</th>\n",
       "      <td>Month - 2</td>\n",
       "      <td>1238428</td>\n",
       "      <td>1707421</td>\n",
       "      <td>2212113</td>\n",
       "      <td>1994341</td>\n",
       "    </tr>\n",
       "    <tr>\n",
       "      <th>2</th>\n",
       "      <td>Month - 3</td>\n",
       "      <td>1860771</td>\n",
       "      <td>2091194</td>\n",
       "      <td>1282374</td>\n",
       "      <td>1241600</td>\n",
       "    </tr>\n",
       "    <tr>\n",
       "      <th>3</th>\n",
       "      <td>Month - 4</td>\n",
       "      <td>1871571</td>\n",
       "      <td>1759617</td>\n",
       "      <td>2290580</td>\n",
       "      <td>2252681</td>\n",
       "    </tr>\n",
       "    <tr>\n",
       "      <th>4</th>\n",
       "      <td>Month - 5</td>\n",
       "      <td>1244922</td>\n",
       "      <td>1606010</td>\n",
       "      <td>1818334</td>\n",
       "      <td>1326062</td>\n",
       "    </tr>\n",
       "  </tbody>\n",
       "</table>\n",
       "</div>"
      ],
      "text/plain": [
       "       Month   Zone_A   Zone_B   Zone_C   Zone_D\n",
       "0  Month - 1  1483525  1748451  1523308  2267260\n",
       "1  Month - 2  1238428  1707421  2212113  1994341\n",
       "2  Month - 3  1860771  2091194  1282374  1241600\n",
       "3  Month - 4  1871571  1759617  2290580  2252681\n",
       "4  Month - 5  1244922  1606010  1818334  1326062"
      ]
     },
     "execution_count": 61,
     "metadata": {},
     "output_type": "execute_result"
    }
   ],
   "source": [
    "data.head()"
   ]
  },
  {
   "cell_type": "code",
   "execution_count": 62,
   "id": "6b8f376f",
   "metadata": {},
   "outputs": [],
   "source": []
  },
  {
   "cell_type": "code",
   "execution_count": 63,
   "id": "a5b0de9d",
   "metadata": {},
   "outputs": [
    {
     "data": {
      "text/html": [
       "<div>\n",
       "<style scoped>\n",
       "    .dataframe tbody tr th:only-of-type {\n",
       "        vertical-align: middle;\n",
       "    }\n",
       "\n",
       "    .dataframe tbody tr th {\n",
       "        vertical-align: top;\n",
       "    }\n",
       "\n",
       "    .dataframe thead th {\n",
       "        text-align: right;\n",
       "    }\n",
       "</style>\n",
       "<table border=\"1\" class=\"dataframe\">\n",
       "  <thead>\n",
       "    <tr style=\"text-align: right;\">\n",
       "      <th></th>\n",
       "      <th>Month</th>\n",
       "      <th>Zone_A</th>\n",
       "      <th>Zone_B</th>\n",
       "      <th>Zone_C</th>\n",
       "      <th>Zone_D</th>\n",
       "    </tr>\n",
       "  </thead>\n",
       "  <tbody>\n",
       "    <tr>\n",
       "      <th>0</th>\n",
       "      <td>Month - 1</td>\n",
       "      <td>1483525</td>\n",
       "      <td>1748451</td>\n",
       "      <td>1523308</td>\n",
       "      <td>2267260</td>\n",
       "    </tr>\n",
       "    <tr>\n",
       "      <th>1</th>\n",
       "      <td>Month - 2</td>\n",
       "      <td>1238428</td>\n",
       "      <td>1707421</td>\n",
       "      <td>2212113</td>\n",
       "      <td>1994341</td>\n",
       "    </tr>\n",
       "    <tr>\n",
       "      <th>2</th>\n",
       "      <td>Month - 3</td>\n",
       "      <td>1860771</td>\n",
       "      <td>2091194</td>\n",
       "      <td>1282374</td>\n",
       "      <td>1241600</td>\n",
       "    </tr>\n",
       "    <tr>\n",
       "      <th>3</th>\n",
       "      <td>Month - 4</td>\n",
       "      <td>1871571</td>\n",
       "      <td>1759617</td>\n",
       "      <td>2290580</td>\n",
       "      <td>2252681</td>\n",
       "    </tr>\n",
       "    <tr>\n",
       "      <th>4</th>\n",
       "      <td>Month - 5</td>\n",
       "      <td>1244922</td>\n",
       "      <td>1606010</td>\n",
       "      <td>1818334</td>\n",
       "      <td>1326062</td>\n",
       "    </tr>\n",
       "  </tbody>\n",
       "</table>\n",
       "</div>"
      ],
      "text/plain": [
       "       Month   Zone_A   Zone_B   Zone_C   Zone_D\n",
       "0  Month - 1  1483525  1748451  1523308  2267260\n",
       "1  Month - 2  1238428  1707421  2212113  1994341\n",
       "2  Month - 3  1860771  2091194  1282374  1241600\n",
       "3  Month - 4  1871571  1759617  2290580  2252681\n",
       "4  Month - 5  1244922  1606010  1818334  1326062"
      ]
     },
     "execution_count": 63,
     "metadata": {},
     "output_type": "execute_result"
    }
   ],
   "source": [
    "data.head()"
   ]
  },
  {
   "cell_type": "code",
   "execution_count": 64,
   "id": "9c62a66d",
   "metadata": {},
   "outputs": [
    {
     "data": {
      "text/plain": [
       "(29, 5)"
      ]
     },
     "execution_count": 64,
     "metadata": {},
     "output_type": "execute_result"
    }
   ],
   "source": [
    "data.shape"
   ]
  },
  {
   "cell_type": "code",
   "execution_count": 65,
   "id": "0663f8ae",
   "metadata": {},
   "outputs": [
    {
     "data": {
      "text/plain": [
       "Month     0\n",
       "Zone_A    0\n",
       "Zone_B    0\n",
       "Zone_C    0\n",
       "Zone_D    0\n",
       "dtype: int64"
      ]
     },
     "execution_count": 65,
     "metadata": {},
     "output_type": "execute_result"
    }
   ],
   "source": [
    "data.isnull().sum()"
   ]
  },
  {
   "cell_type": "code",
   "execution_count": 66,
   "id": "2cad720c",
   "metadata": {},
   "outputs": [
    {
     "data": {
      "text/plain": [
       "Index(['Month', 'Zone_A', 'Zone_B', 'Zone_C', 'Zone_D'], dtype='object')"
      ]
     },
     "execution_count": 66,
     "metadata": {},
     "output_type": "execute_result"
    }
   ],
   "source": [
    "data.columns.unique()"
   ]
  },
  {
   "cell_type": "code",
   "execution_count": 67,
   "id": "078b0253",
   "metadata": {},
   "outputs": [
    {
     "data": {
      "text/html": [
       "<div>\n",
       "<style scoped>\n",
       "    .dataframe tbody tr th:only-of-type {\n",
       "        vertical-align: middle;\n",
       "    }\n",
       "\n",
       "    .dataframe tbody tr th {\n",
       "        vertical-align: top;\n",
       "    }\n",
       "\n",
       "    .dataframe thead th {\n",
       "        text-align: right;\n",
       "    }\n",
       "</style>\n",
       "<table border=\"1\" class=\"dataframe\">\n",
       "  <thead>\n",
       "    <tr style=\"text-align: right;\">\n",
       "      <th></th>\n",
       "      <th>Zone_A</th>\n",
       "      <th>Zone_B</th>\n",
       "      <th>Zone_C</th>\n",
       "      <th>Zone_D</th>\n",
       "    </tr>\n",
       "  </thead>\n",
       "  <tbody>\n",
       "    <tr>\n",
       "      <th>count</th>\n",
       "      <td>29</td>\n",
       "      <td>29</td>\n",
       "      <td>29</td>\n",
       "      <td>29</td>\n",
       "    </tr>\n",
       "    <tr>\n",
       "      <th>mean</th>\n",
       "      <td>1540493</td>\n",
       "      <td>1755559</td>\n",
       "      <td>1772871</td>\n",
       "      <td>1842926</td>\n",
       "    </tr>\n",
       "    <tr>\n",
       "      <th>std</th>\n",
       "      <td>261940</td>\n",
       "      <td>168389</td>\n",
       "      <td>333193</td>\n",
       "      <td>375016</td>\n",
       "    </tr>\n",
       "    <tr>\n",
       "      <th>min</th>\n",
       "      <td>1128185</td>\n",
       "      <td>1527574</td>\n",
       "      <td>1237722</td>\n",
       "      <td>1234311</td>\n",
       "    </tr>\n",
       "    <tr>\n",
       "      <th>25%</th>\n",
       "      <td>1305972</td>\n",
       "      <td>1606010</td>\n",
       "      <td>1523308</td>\n",
       "      <td>1520406</td>\n",
       "    </tr>\n",
       "    <tr>\n",
       "      <th>50%</th>\n",
       "      <td>1534390</td>\n",
       "      <td>1740365</td>\n",
       "      <td>1767047</td>\n",
       "      <td>1854412</td>\n",
       "    </tr>\n",
       "    <tr>\n",
       "      <th>75%</th>\n",
       "      <td>1820196</td>\n",
       "      <td>1875658</td>\n",
       "      <td>2098463</td>\n",
       "      <td>2180416</td>\n",
       "    </tr>\n",
       "    <tr>\n",
       "      <th>max</th>\n",
       "      <td>2004480</td>\n",
       "      <td>2091194</td>\n",
       "      <td>2290580</td>\n",
       "      <td>2364132</td>\n",
       "    </tr>\n",
       "  </tbody>\n",
       "</table>\n",
       "</div>"
      ],
      "text/plain": [
       "        Zone_A   Zone_B   Zone_C   Zone_D\n",
       "count       29       29       29       29\n",
       "mean   1540493  1755559  1772871  1842926\n",
       "std     261940   168389   333193   375016\n",
       "min    1128185  1527574  1237722  1234311\n",
       "25%    1305972  1606010  1523308  1520406\n",
       "50%    1534390  1740365  1767047  1854412\n",
       "75%    1820196  1875658  2098463  2180416\n",
       "max    2004480  2091194  2290580  2364132"
      ]
     },
     "execution_count": 67,
     "metadata": {},
     "output_type": "execute_result"
    }
   ],
   "source": [
    "data.describe().astype(int)"
   ]
  },
  {
   "cell_type": "markdown",
   "id": "f8470ff2",
   "metadata": {},
   "source": [
    "### Mean for the zones are:\n",
    "#### > Zone A:- 1540493\n",
    "#### > Zone B:- 1755559\n",
    "#### > Zone C:- 1772871\n",
    "#### > Zone D:- 1842926\n",
    "### Max values for the zones A,B,C,D are 2004480,2091194,2290580,2364132 respectively\n",
    "### Minimum values for the zones A,B,C,D are 1128185,1527574,1237722,1234311 respectively"
   ]
  },
  {
   "cell_type": "code",
   "execution_count": 68,
   "id": "7cf157b4",
   "metadata": {},
   "outputs": [
    {
     "data": {
      "text/html": [
       "<div>\n",
       "<style scoped>\n",
       "    .dataframe tbody tr th:only-of-type {\n",
       "        vertical-align: middle;\n",
       "    }\n",
       "\n",
       "    .dataframe tbody tr th {\n",
       "        vertical-align: top;\n",
       "    }\n",
       "\n",
       "    .dataframe thead th {\n",
       "        text-align: right;\n",
       "    }\n",
       "</style>\n",
       "<table border=\"1\" class=\"dataframe\">\n",
       "  <thead>\n",
       "    <tr style=\"text-align: right;\">\n",
       "      <th></th>\n",
       "      <th>Month</th>\n",
       "    </tr>\n",
       "  </thead>\n",
       "  <tbody>\n",
       "    <tr>\n",
       "      <th>count</th>\n",
       "      <td>29</td>\n",
       "    </tr>\n",
       "    <tr>\n",
       "      <th>unique</th>\n",
       "      <td>29</td>\n",
       "    </tr>\n",
       "    <tr>\n",
       "      <th>top</th>\n",
       "      <td>Month - 22</td>\n",
       "    </tr>\n",
       "    <tr>\n",
       "      <th>freq</th>\n",
       "      <td>1</td>\n",
       "    </tr>\n",
       "  </tbody>\n",
       "</table>\n",
       "</div>"
      ],
      "text/plain": [
       "             Month\n",
       "count           29\n",
       "unique          29\n",
       "top     Month - 22\n",
       "freq             1"
      ]
     },
     "execution_count": 68,
     "metadata": {},
     "output_type": "execute_result"
    }
   ],
   "source": [
    "data.describe(include='object')"
   ]
  },
  {
   "cell_type": "code",
   "execution_count": 69,
   "id": "cb5d37bd",
   "metadata": {},
   "outputs": [
    {
     "data": {
      "text/plain": [
       "29"
      ]
     },
     "execution_count": 69,
     "metadata": {},
     "output_type": "execute_result"
    }
   ],
   "source": [
    "data.value_counts().size"
   ]
  },
  {
   "cell_type": "code",
   "execution_count": 70,
   "id": "fc19a8fb",
   "metadata": {},
   "outputs": [
    {
     "name": "stdout",
     "output_type": "stream",
     "text": [
      "<class 'pandas.core.frame.DataFrame'>\n",
      "RangeIndex: 29 entries, 0 to 28\n",
      "Data columns (total 5 columns):\n",
      " #   Column  Non-Null Count  Dtype \n",
      "---  ------  --------------  ----- \n",
      " 0   Month   29 non-null     object\n",
      " 1   Zone_A  29 non-null     int64 \n",
      " 2   Zone_B  29 non-null     int64 \n",
      " 3   Zone_C  29 non-null     int64 \n",
      " 4   Zone_D  29 non-null     int64 \n",
      "dtypes: int64(4), object(1)\n",
      "memory usage: 1.3+ KB\n"
     ]
    }
   ],
   "source": [
    "data.info()"
   ]
  },
  {
   "cell_type": "code",
   "execution_count": 34,
   "id": "12a41c5b",
   "metadata": {},
   "outputs": [
    {
     "data": {
      "image/png": "[encoded data removed]",
      "text/plain": [
       "<Figure size 432x288 with 1 Axes>"
      ]
     },
     "metadata": {
      "needs_background": "light"
     },
     "output_type": "display_data"
    }
   ],
   "source": [
    "sns.histplot(x=dzw['Zone_A'])\n",
    "plt.show()\n"
   ]
  },
  {
   "cell_type": "code",
   "execution_count": 35,
   "id": "fef38bcc",
   "metadata": {},
   "outputs": [
    {
     "data": {
      "image/png": "[encoded data removed]",
      "text/plain": [
       "<Figure size 432x288 with 1 Axes>"
      ]
     },
     "metadata": {
      "needs_background": "light"
     },
     "output_type": "display_data"
    }
   ],
   "source": [
    "sns.histplot(x=dzw['Zone_B'])\n",
    "plt.show()\n"
   ]
  },
  {
   "cell_type": "code",
   "execution_count": 36,
   "id": "dc8e0fac",
   "metadata": {},
   "outputs": [
    {
     "data": {
      "image/png": "[encoded data removed]",
      "text/plain": [
       "<Figure size 432x288 with 1 Axes>"
      ]
     },
     "metadata": {
      "needs_background": "light"
     },
     "output_type": "display_data"
    }
   ],
   "source": [
    "sns.histplot(x=dzw['Zone_C'])\n",
    "plt.show()\n"
   ]
  },
  {
   "cell_type": "code",
   "execution_count": 37,
   "id": "95355302",
   "metadata": {},
   "outputs": [
    {
     "data": {
      "image/png": "[encoded data removed]",
      "text/plain": [
       "<Figure size 432x288 with 1 Axes>"
      ]
     },
     "metadata": {
      "needs_background": "light"
     },
     "output_type": "display_data"
    }
   ],
   "source": [
    "sns.histplot(x=dzw['Zone_D'])\n",
    "plt.show()\n"
   ]
  },
  {
   "cell_type": "code",
   "execution_count": 38,
   "id": "43213958",
   "metadata": {},
   "outputs": [
    {
     "data": {
      "image/png": "[encoded data removed]",
      "text/plain": [
       "<Figure size 720x720 with 20 Axes>"
      ]
     },
     "metadata": {
      "needs_background": "light"
     },
     "output_type": "display_data"
    }
   ],
   "source": [
    "sns.pairplot(dzw)\n",
    "plt.show()\n"
   ]
  },
  {
   "cell_type": "markdown",
   "id": "f5ef4642",
   "metadata": {},
   "source": [
    "#### Dataset consists of 29 rows and 5 columns.\n",
    "#### No null values are present in the dataset\n",
    "#### Zones are normally distributed \n",
    "#### ZoneD are skewed to left and Zone A abd B are skewed to right"
   ]
  },
  {
   "cell_type": "markdown",
   "id": "a4d50e4e",
   "metadata": {},
   "source": [
    "## 1.The mean sales generated by each zone\n"
   ]
  },
  {
   "cell_type": "code",
   "execution_count": 71,
   "id": "cadfb200",
   "metadata": {},
   "outputs": [
    {
     "data": {
      "text/html": [
       "<div>\n",
       "<style scoped>\n",
       "    .dataframe tbody tr th:only-of-type {\n",
       "        vertical-align: middle;\n",
       "    }\n",
       "\n",
       "    .dataframe tbody tr th {\n",
       "        vertical-align: top;\n",
       "    }\n",
       "\n",
       "    .dataframe thead th {\n",
       "        text-align: right;\n",
       "    }\n",
       "</style>\n",
       "<table border=\"1\" class=\"dataframe\">\n",
       "  <thead>\n",
       "    <tr style=\"text-align: right;\">\n",
       "      <th></th>\n",
       "      <th>Zone_A</th>\n",
       "      <th>Zone_B</th>\n",
       "      <th>Zone_C</th>\n",
       "      <th>Zone_D</th>\n",
       "    </tr>\n",
       "  </thead>\n",
       "  <tbody>\n",
       "    <tr>\n",
       "      <th>count</th>\n",
       "      <td>29</td>\n",
       "      <td>29</td>\n",
       "      <td>29</td>\n",
       "      <td>29</td>\n",
       "    </tr>\n",
       "    <tr>\n",
       "      <th>mean</th>\n",
       "      <td>1540493</td>\n",
       "      <td>1755559</td>\n",
       "      <td>1772871</td>\n",
       "      <td>1842926</td>\n",
       "    </tr>\n",
       "    <tr>\n",
       "      <th>std</th>\n",
       "      <td>261940</td>\n",
       "      <td>168389</td>\n",
       "      <td>333193</td>\n",
       "      <td>375016</td>\n",
       "    </tr>\n",
       "    <tr>\n",
       "      <th>min</th>\n",
       "      <td>1128185</td>\n",
       "      <td>1527574</td>\n",
       "      <td>1237722</td>\n",
       "      <td>1234311</td>\n",
       "    </tr>\n",
       "    <tr>\n",
       "      <th>25%</th>\n",
       "      <td>1305972</td>\n",
       "      <td>1606010</td>\n",
       "      <td>1523308</td>\n",
       "      <td>1520406</td>\n",
       "    </tr>\n",
       "    <tr>\n",
       "      <th>50%</th>\n",
       "      <td>1534390</td>\n",
       "      <td>1740365</td>\n",
       "      <td>1767047</td>\n",
       "      <td>1854412</td>\n",
       "    </tr>\n",
       "    <tr>\n",
       "      <th>75%</th>\n",
       "      <td>1820196</td>\n",
       "      <td>1875658</td>\n",
       "      <td>2098463</td>\n",
       "      <td>2180416</td>\n",
       "    </tr>\n",
       "    <tr>\n",
       "      <th>max</th>\n",
       "      <td>2004480</td>\n",
       "      <td>2091194</td>\n",
       "      <td>2290580</td>\n",
       "      <td>2364132</td>\n",
       "    </tr>\n",
       "  </tbody>\n",
       "</table>\n",
       "</div>"
      ],
      "text/plain": [
       "        Zone_A   Zone_B   Zone_C   Zone_D\n",
       "count       29       29       29       29\n",
       "mean   1540493  1755559  1772871  1842926\n",
       "std     261940   168389   333193   375016\n",
       "min    1128185  1527574  1237722  1234311\n",
       "25%    1305972  1606010  1523308  1520406\n",
       "50%    1534390  1740365  1767047  1854412\n",
       "75%    1820196  1875658  2098463  2180416\n",
       "max    2004480  2091194  2290580  2364132"
      ]
     },
     "execution_count": 71,
     "metadata": {},
     "output_type": "execute_result"
    }
   ],
   "source": [
    "data.describe().astype(int)\n"
   ]
  },
  {
   "cell_type": "code",
   "execution_count": 72,
   "id": "57b88816",
   "metadata": {},
   "outputs": [
    {
     "data": {
      "text/plain": [
       "Zone_A    1540493\n",
       "Zone_B    1755559\n",
       "Zone_C    1772871\n",
       "Zone_D    1842926\n",
       "dtype: int32"
      ]
     },
     "execution_count": 72,
     "metadata": {},
     "output_type": "execute_result"
    }
   ],
   "source": [
    "data.mean().astype(int)\n"
   ]
  },
  {
   "cell_type": "markdown",
   "id": "06b3d97c",
   "metadata": {},
   "source": [
    "### Mean sales generated by each zone is \n",
    "#### > Zone A:-1540493.0\n",
    "#### > Zone B:-1755559.0\n",
    "#### > Zone C:-1772871.0\n",
    "#### > Zone D:-1842926.0"
   ]
  },
  {
   "cell_type": "markdown",
   "id": "f79a1b6d",
   "metadata": {},
   "source": [
    "### 2. Total sales generated by all the zones for each month."
   ]
  },
  {
   "cell_type": "code",
   "execution_count": 73,
   "id": "b5c2db70",
   "metadata": {},
   "outputs": [
    {
     "name": "stdout",
     "output_type": "stream",
     "text": [
      " Total sales by all zones for each month \n",
      "0     7022544\n",
      "1     7152303\n",
      "2     6475939\n",
      "3     8174449\n",
      "4     5995328\n",
      "5     7151387\n",
      "6     7287108\n",
      "7     7816299\n",
      "8     6703395\n",
      "9     7128210\n",
      "10    7032783\n",
      "11    6111084\n",
      "12    5925424\n",
      "13    7155515\n",
      "14    5934156\n",
      "15    6506659\n",
      "16    7149383\n",
      "17    7083490\n",
      "18    6971953\n",
      "19    7124599\n",
      "20    7389597\n",
      "21    7560001\n",
      "22    6687919\n",
      "23    7784747\n",
      "24    6095918\n",
      "25    6512360\n",
      "26    6267918\n",
      "27    7470920\n",
      "28    6772277\n",
      "dtype: int64\n"
     ]
    }
   ],
   "source": [
    "dpq= data.sum(numeric_only=True, axis=1)\n",
    "print(\" Total sales by all zones for each month \", sep ='/n')\n",
    "print(dpq)"
   ]
  },
  {
   "cell_type": "markdown",
   "id": "7c8e38fc",
   "metadata": {},
   "source": [
    "### 3.Check whether all the zones generate the same amount of sales.\n"
   ]
  },
  {
   "cell_type": "markdown",
   "id": "17562042",
   "metadata": {},
   "source": [
    "#### Null Hypothesis :- All the zones generated same amount of sales \n",
    "#### Alternate Hypothesis:- Sales generated by atleast one zone is different"
   ]
  },
  {
   "cell_type": "code",
   "execution_count": 51,
   "id": "1e269936",
   "metadata": {},
   "outputs": [
    {
     "data": {
      "text/plain": [
       "3.105157"
      ]
     },
     "execution_count": 51,
     "metadata": {},
     "output_type": "execute_result"
    }
   ],
   "source": [
    "#numerator degrees of freedom (k-1) = (3-1) = 2\n",
    "df_Nr=2\n",
    "#denominator degrees of freedom(N-k) = (3*29-3) = 84\n",
    "df_Dr=84\n",
    "alpha=.05\n",
    "b=0.95\n",
    "f_critical=stats.f.ppf(b,df_Nr,df_Dr)\n",
    "round(f_critical,6)\n"
   ]
  },
  {
   "cell_type": "code",
   "execution_count": 74,
   "id": "e4290e62",
   "metadata": {},
   "outputs": [],
   "source": [
    "ftest,pvalue=f_oneway(data['Zone_A'],data['Zone_B'],data['Zone_C'],data['Zone_D'])"
   ]
  },
  {
   "cell_type": "code",
   "execution_count": 75,
   "id": "cdc5793c",
   "metadata": {},
   "outputs": [
    {
     "name": "stdout",
     "output_type": "stream",
     "text": [
      "F statistic value is:5.672056\n"
     ]
    }
   ],
   "source": [
    "print(\"F statistic value is:%.06f\"%ftest)"
   ]
  },
  {
   "cell_type": "code",
   "execution_count": 76,
   "id": "81e8e712",
   "metadata": {},
   "outputs": [
    {
     "name": "stdout",
     "output_type": "stream",
     "text": [
      "Pvalue is0.00118\n"
     ]
    }
   ],
   "source": [
    "print(\"Pvalue is%.5f\"%pvalue)"
   ]
  },
  {
   "cell_type": "code",
   "execution_count": 77,
   "id": "1b45c834",
   "metadata": {},
   "outputs": [
    {
     "name": "stdout",
     "output_type": "stream",
     "text": [
      "Reject null hypothesis\n"
     ]
    }
   ],
   "source": [
    "if pvalue<alpha:\n",
    "    print('Reject null hypothesis')\n",
    "else:\n",
    "    print('Fail to reject null hypothesis')"
   ]
  },
  {
   "cell_type": "code",
   "execution_count": 78,
   "id": "4a17b87b",
   "metadata": {},
   "outputs": [
    {
     "name": "stdout",
     "output_type": "stream",
     "text": [
      "Reject null hypothesis\n"
     ]
    }
   ],
   "source": [
    "if(ftest>f_critical):\n",
    "    print('Reject null hypothesis')\n",
    "else:\n",
    "    print('Fail to reject null hypothesis')"
   ]
  },
  {
   "cell_type": "markdown",
   "id": "14b887e3",
   "metadata": {},
   "source": [
    "### Interpretations:-\n",
    "#### From the above calculations our critical f value is 3.105157 and f-statistic value is 5.672056.Here f-statistic value is greater than f critical value also the p-value obtained 0.00118 is less than the alpha value 0.05,so we reject the null hypothesis.We can conclude that sales generated by all the zones is not the same "
   ]
  },
  {
   "cell_type": "code",
   "execution_count": null,
   "id": "63ab350e",
   "metadata": {},
   "outputs": [],
   "source": []
  },
  {
   "cell_type": "code",
   "execution_count": null,
   "id": "2aaeeea0",
   "metadata": {},
   "outputs": [],
   "source": []
  },
  {
   "cell_type": "code",
   "execution_count": null,
   "id": "c020a30a",
   "metadata": {},
   "outputs": [],
   "source": []
  },
  {
   "cell_type": "code",
   "execution_count": null,
   "id": "8892fb60",
   "metadata": {},
   "outputs": [],
   "source": []
  },
  {
   "cell_type": "code",
   "execution_count": null,
   "id": "c0dacada",
   "metadata": {},
   "outputs": [],
   "source": []
  },
  {
   "cell_type": "code",
   "execution_count": null,
   "id": "10dc057a",
   "metadata": {},
   "outputs": [],
   "source": []
  },
  {
   "cell_type": "code",
   "execution_count": null,
   "id": "925b323f",
   "metadata": {},
   "outputs": [],
   "source": [
    "\n"
   ]
  },
  {
   "cell_type": "code",
   "execution_count": null,
   "id": "be55d987",
   "metadata": {},
   "outputs": [],
   "source": [
    "\n",
    "\n"
   ]
  },
  {
   "cell_type": "code",
   "execution_count": null,
   "id": "f6f05b4e",
   "metadata": {},
   "outputs": [],
   "source": []
  }
 ],
 "metadata": {
  "kernelspec": {
   "display_name": "Python 3",
   "language": "python",
   "name": "python3"
  },
  "language_info": {
   "codemirror_mode": {
    "name": "ipython",
    "version": 3
   },
   "file_extension": ".py",
   "mimetype": "text/x-python",
   "name": "python",
   "nbconvert_exporter": "python",
   "pygments_lexer": "ipython3",
   "version": "3.8.8"
  }
 },
 "nbformat": 4,
 "nbformat_minor": 5
}
